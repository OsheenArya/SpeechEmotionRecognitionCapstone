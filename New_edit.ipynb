{
  "nbformat": 4,
  "nbformat_minor": 0,
  "metadata": {
    "colab": {
      "name": "New edit",
      "provenance": [],
      "authorship_tag": "ABX9TyNadewYVwBkrfDcfCtZEPZF",
      "include_colab_link": true
    },
    "kernelspec": {
      "name": "python3",
      "display_name": "Python 3"
    },
    "language_info": {
      "name": "python"
    }
  },
  "cells": [
    {
      "cell_type": "markdown",
      "metadata": {
        "id": "view-in-github",
        "colab_type": "text"
      },
      "source": [
        "<a href=\"https://colab.research.google.com/github/OsheenArya/SpeechEmotionRecognitionCapstone/blob/main/New_edit.ipynb\" target=\"_parent\"><img src=\"https://colab.research.google.com/assets/colab-badge.svg\" alt=\"Open In Colab\"/></a>"
      ]
    },
    {
      "cell_type": "code",
      "execution_count": 2,
      "metadata": {
        "id": "xviHmgKl9n12"
      },
      "outputs": [],
      "source": [
        "import librosa\n",
        "import soundfile\n",
        "import os, glob, pickle\n",
        "import numpy as np\n",
        "import pandas as pd\n",
        "from sklearn.model_selection import train_test_split\n",
        "from sklearn.neural_network import MLPClassifier\n",
        "from sklearn.metrics import accuracy_score"
      ]
    },
    {
      "cell_type": "code",
      "source": [
        "import os\n",
        "from google.colab import drive\n",
        "drive.mount('/gdrive')"
      ],
      "metadata": {
        "colab": {
          "base_uri": "https://localhost:8080/"
        },
        "id": "eA1nmRYz-DnT",
        "outputId": "0f593e67-2151-4c73-9f0a-1864d6f356a1"
      },
      "execution_count": 3,
      "outputs": [
        {
          "output_type": "stream",
          "name": "stdout",
          "text": [
            "Mounted at /gdrive\n"
          ]
        }
      ]
    },
    {
      "cell_type": "code",
      "source": [
        "#Extract paths of the datasets\n",
        "\n",
        "ravdess_emotions={'01':'neutral', '02':'calm', '03':'happy', '04':'sad',\n",
        "                  '05':'angry', '06':'fear', '07':'disgust', '08':'suprise'}\n",
        "\n",
        "crema_emotions = {'NEU': 'neutral', 'HAP':'happy', 'SAD':'sad', 'ANG':'angry', 'FEA':'fear','DIS':'disgust'}\n",
        "\n",
        "savee_emotions = {'a':'angry', 'h':'happy', 's':'sad', 'n':'neutral', 'f':'fear', 'd':'disgust'}\n",
        "\n",
        "data_path = '/gdrive/MyDrive/speech_datasets/'\n",
        "processed_data = []\n",
        "\n",
        "for root, dirs, files in os.walk(data_path):\n",
        "  for file in files:\n",
        "    file_path = os.path.join(root,file)\n",
        "\n",
        "    dataset = root.split('/')[4]\n",
        "\n",
        "    if dataset == 'Crema':\n",
        "      emotion = crema_emotions[file.split('_')[2]]\n",
        "    elif dataset == 'Tess':\n",
        "      emotion = file.split('_')[2].split('.')[0]\n",
        "      if emotion == 'ps':\n",
        "        emotion = 'suprise'\n",
        "    elif dataset == 'Ravdess':\n",
        "      emotion = ravdess_emotions[file.split(\"-\")[2]]\n",
        "    else:\n",
        "      emotion_code = file.split('_')[1][:2]\n",
        "      if emotion_code.__contains__('su'):\n",
        "        emotion = 'suprise'\n",
        "      else:\n",
        "        emotion = savee_emotions[emotion_code[0]]\n",
        "\n",
        "    processed_data.append([file_path, dataset, emotion])\n",
        "\n",
        "\n",
        "speech_data = pd.DataFrame(processed_data, columns=['file_name','dataset','emotion'])\n"
      ],
      "metadata": {
        "id": "gz9f-v7zWZCF"
      },
      "execution_count": 4,
      "outputs": []
    },
    {
      "cell_type": "code",
      "source": [
        "speech_data\n"
      ],
      "metadata": {
        "colab": {
          "base_uri": "https://localhost:8080/",
          "height": 423
        },
        "id": "WbhUk1E5dhWZ",
        "outputId": "cb1a9af8-0524-4ed5-f3c7-51ac9454a8b7"
      },
      "execution_count": 5,
      "outputs": [
        {
          "output_type": "execute_result",
          "data": {
            "text/plain": [
              "                                               file_name dataset emotion\n",
              "0      /gdrive/MyDrive/speech_datasets/Crema/1080_IEO...   Crema   happy\n",
              "1      /gdrive/MyDrive/speech_datasets/Crema/1080_IEO...   Crema    fear\n",
              "2      /gdrive/MyDrive/speech_datasets/Crema/1080_DFA...   Crema   happy\n",
              "3      /gdrive/MyDrive/speech_datasets/Crema/1079_WSI...   Crema     sad\n",
              "4      /gdrive/MyDrive/speech_datasets/Crema/1079_WSI...   Crema    fear\n",
              "...                                                  ...     ...     ...\n",
              "12157  /gdrive/MyDrive/speech_datasets/Tess/OAF_happy...    Tess   happy\n",
              "12158  /gdrive/MyDrive/speech_datasets/Tess/OAF_happy...    Tess   happy\n",
              "12159  /gdrive/MyDrive/speech_datasets/Tess/OAF_happy...    Tess   happy\n",
              "12160  /gdrive/MyDrive/speech_datasets/Tess/OAF_happy...    Tess   happy\n",
              "12161  /gdrive/MyDrive/speech_datasets/Tess/OAF_happy...    Tess   happy\n",
              "\n",
              "[12162 rows x 3 columns]"
            ],
            "text/html": [
              "\n",
              "  <div id=\"df-0644ca9e-b17d-4540-bc6a-45c4738a9d24\">\n",
              "    <div class=\"colab-df-container\">\n",
              "      <div>\n",
              "<style scoped>\n",
              "    .dataframe tbody tr th:only-of-type {\n",
              "        vertical-align: middle;\n",
              "    }\n",
              "\n",
              "    .dataframe tbody tr th {\n",
              "        vertical-align: top;\n",
              "    }\n",
              "\n",
              "    .dataframe thead th {\n",
              "        text-align: right;\n",
              "    }\n",
              "</style>\n",
              "<table border=\"1\" class=\"dataframe\">\n",
              "  <thead>\n",
              "    <tr style=\"text-align: right;\">\n",
              "      <th></th>\n",
              "      <th>file_name</th>\n",
              "      <th>dataset</th>\n",
              "      <th>emotion</th>\n",
              "    </tr>\n",
              "  </thead>\n",
              "  <tbody>\n",
              "    <tr>\n",
              "      <th>0</th>\n",
              "      <td>/gdrive/MyDrive/speech_datasets/Crema/1080_IEO...</td>\n",
              "      <td>Crema</td>\n",
              "      <td>happy</td>\n",
              "    </tr>\n",
              "    <tr>\n",
              "      <th>1</th>\n",
              "      <td>/gdrive/MyDrive/speech_datasets/Crema/1080_IEO...</td>\n",
              "      <td>Crema</td>\n",
              "      <td>fear</td>\n",
              "    </tr>\n",
              "    <tr>\n",
              "      <th>2</th>\n",
              "      <td>/gdrive/MyDrive/speech_datasets/Crema/1080_DFA...</td>\n",
              "      <td>Crema</td>\n",
              "      <td>happy</td>\n",
              "    </tr>\n",
              "    <tr>\n",
              "      <th>3</th>\n",
              "      <td>/gdrive/MyDrive/speech_datasets/Crema/1079_WSI...</td>\n",
              "      <td>Crema</td>\n",
              "      <td>sad</td>\n",
              "    </tr>\n",
              "    <tr>\n",
              "      <th>4</th>\n",
              "      <td>/gdrive/MyDrive/speech_datasets/Crema/1079_WSI...</td>\n",
              "      <td>Crema</td>\n",
              "      <td>fear</td>\n",
              "    </tr>\n",
              "    <tr>\n",
              "      <th>...</th>\n",
              "      <td>...</td>\n",
              "      <td>...</td>\n",
              "      <td>...</td>\n",
              "    </tr>\n",
              "    <tr>\n",
              "      <th>12157</th>\n",
              "      <td>/gdrive/MyDrive/speech_datasets/Tess/OAF_happy...</td>\n",
              "      <td>Tess</td>\n",
              "      <td>happy</td>\n",
              "    </tr>\n",
              "    <tr>\n",
              "      <th>12158</th>\n",
              "      <td>/gdrive/MyDrive/speech_datasets/Tess/OAF_happy...</td>\n",
              "      <td>Tess</td>\n",
              "      <td>happy</td>\n",
              "    </tr>\n",
              "    <tr>\n",
              "      <th>12159</th>\n",
              "      <td>/gdrive/MyDrive/speech_datasets/Tess/OAF_happy...</td>\n",
              "      <td>Tess</td>\n",
              "      <td>happy</td>\n",
              "    </tr>\n",
              "    <tr>\n",
              "      <th>12160</th>\n",
              "      <td>/gdrive/MyDrive/speech_datasets/Tess/OAF_happy...</td>\n",
              "      <td>Tess</td>\n",
              "      <td>happy</td>\n",
              "    </tr>\n",
              "    <tr>\n",
              "      <th>12161</th>\n",
              "      <td>/gdrive/MyDrive/speech_datasets/Tess/OAF_happy...</td>\n",
              "      <td>Tess</td>\n",
              "      <td>happy</td>\n",
              "    </tr>\n",
              "  </tbody>\n",
              "</table>\n",
              "<p>12162 rows × 3 columns</p>\n",
              "</div>\n",
              "      <button class=\"colab-df-convert\" onclick=\"convertToInteractive('df-0644ca9e-b17d-4540-bc6a-45c4738a9d24')\"\n",
              "              title=\"Convert this dataframe to an interactive table.\"\n",
              "              style=\"display:none;\">\n",
              "        \n",
              "  <svg xmlns=\"http://www.w3.org/2000/svg\" height=\"24px\"viewBox=\"0 0 24 24\"\n",
              "       width=\"24px\">\n",
              "    <path d=\"M0 0h24v24H0V0z\" fill=\"none\"/>\n",
              "    <path d=\"M18.56 5.44l.94 2.06.94-2.06 2.06-.94-2.06-.94-.94-2.06-.94 2.06-2.06.94zm-11 1L8.5 8.5l.94-2.06 2.06-.94-2.06-.94L8.5 2.5l-.94 2.06-2.06.94zm10 10l.94 2.06.94-2.06 2.06-.94-2.06-.94-.94-2.06-.94 2.06-2.06.94z\"/><path d=\"M17.41 7.96l-1.37-1.37c-.4-.4-.92-.59-1.43-.59-.52 0-1.04.2-1.43.59L10.3 9.45l-7.72 7.72c-.78.78-.78 2.05 0 2.83L4 21.41c.39.39.9.59 1.41.59.51 0 1.02-.2 1.41-.59l7.78-7.78 2.81-2.81c.8-.78.8-2.07 0-2.86zM5.41 20L4 18.59l7.72-7.72 1.47 1.35L5.41 20z\"/>\n",
              "  </svg>\n",
              "      </button>\n",
              "      \n",
              "  <style>\n",
              "    .colab-df-container {\n",
              "      display:flex;\n",
              "      flex-wrap:wrap;\n",
              "      gap: 12px;\n",
              "    }\n",
              "\n",
              "    .colab-df-convert {\n",
              "      background-color: #E8F0FE;\n",
              "      border: none;\n",
              "      border-radius: 50%;\n",
              "      cursor: pointer;\n",
              "      display: none;\n",
              "      fill: #1967D2;\n",
              "      height: 32px;\n",
              "      padding: 0 0 0 0;\n",
              "      width: 32px;\n",
              "    }\n",
              "\n",
              "    .colab-df-convert:hover {\n",
              "      background-color: #E2EBFA;\n",
              "      box-shadow: 0px 1px 2px rgba(60, 64, 67, 0.3), 0px 1px 3px 1px rgba(60, 64, 67, 0.15);\n",
              "      fill: #174EA6;\n",
              "    }\n",
              "\n",
              "    [theme=dark] .colab-df-convert {\n",
              "      background-color: #3B4455;\n",
              "      fill: #D2E3FC;\n",
              "    }\n",
              "\n",
              "    [theme=dark] .colab-df-convert:hover {\n",
              "      background-color: #434B5C;\n",
              "      box-shadow: 0px 1px 3px 1px rgba(0, 0, 0, 0.15);\n",
              "      filter: drop-shadow(0px 1px 2px rgba(0, 0, 0, 0.3));\n",
              "      fill: #FFFFFF;\n",
              "    }\n",
              "  </style>\n",
              "\n",
              "      <script>\n",
              "        const buttonEl =\n",
              "          document.querySelector('#df-0644ca9e-b17d-4540-bc6a-45c4738a9d24 button.colab-df-convert');\n",
              "        buttonEl.style.display =\n",
              "          google.colab.kernel.accessAllowed ? 'block' : 'none';\n",
              "\n",
              "        async function convertToInteractive(key) {\n",
              "          const element = document.querySelector('#df-0644ca9e-b17d-4540-bc6a-45c4738a9d24');\n",
              "          const dataTable =\n",
              "            await google.colab.kernel.invokeFunction('convertToInteractive',\n",
              "                                                     [key], {});\n",
              "          if (!dataTable) return;\n",
              "\n",
              "          const docLinkHtml = 'Like what you see? Visit the ' +\n",
              "            '<a target=\"_blank\" href=https://colab.research.google.com/notebooks/data_table.ipynb>data table notebook</a>'\n",
              "            + ' to learn more about interactive tables.';\n",
              "          element.innerHTML = '';\n",
              "          dataTable['output_type'] = 'display_data';\n",
              "          await google.colab.output.renderOutput(dataTable, element);\n",
              "          const docLink = document.createElement('div');\n",
              "          docLink.innerHTML = docLinkHtml;\n",
              "          element.appendChild(docLink);\n",
              "        }\n",
              "      </script>\n",
              "    </div>\n",
              "  </div>\n",
              "  "
            ]
          },
          "metadata": {},
          "execution_count": 5
        }
      ]
    },
    {
      "cell_type": "code",
      "source": [
        "from librosa import feature\n",
        "\n",
        "def extract_feature(file_name, mfcc, chroma, mel):\n",
        "  X, sample_rate = librosa.load(os.path.join(file_name), res_type = \"kaiser_fast\")\n",
        "  result = np.array([])\n",
        "  if mfcc:\n",
        "    mfccs=np.mean(librosa.feature.mfcc(y=X, sr=sample_rate, n_mfcc=40).T, axis=0)\n",
        "    result = np.hstack((result, mfccs))\n",
        "  if chroma:\n",
        "    stft =np.abs(librosa.stft(X))\n",
        "    chroma=np.mean(librosa.feature.chroma_stft(S=stft, sr=sample_rate).T,axis=0)\n",
        "    result=np.hstack((result, chroma))\n",
        "  if mel:\n",
        "    mel=np.mean(librosa.feature.melspectrogram(X, sr=sample_rate).T,axis=0)\n",
        "    result=np.hstack((result, mel))\n",
        "   \n",
        "\n",
        "  return result\n",
        "\n"
      ],
      "metadata": {
        "id": "w7KqVrKSaf7y"
      },
      "execution_count": 6,
      "outputs": []
    },
    {
      "cell_type": "code",
      "source": [
        "file_names = speech_data['file_name'].tolist()\n",
        "\n",
        "def get_features(file_path):\n",
        "  features = []\n",
        "  for file in file_path:\n",
        "    feature = extract_feature(file, mfcc=True , chroma=True, mel=True)\n",
        "    features.append(feature)\n",
        "  \n",
        "  return pd.DataFrame(np.array(features))\n",
        "\n"
      ],
      "metadata": {
        "id": "aBogANOG0ryY"
      },
      "execution_count": 7,
      "outputs": []
    },
    {
      "cell_type": "code",
      "source": [
        "feature_data = get_features(file_names)"
      ],
      "metadata": {
        "id": "sIwiVeGdxZM5"
      },
      "execution_count": null,
      "outputs": []
    },
    {
      "cell_type": "code",
      "source": [
        "labels = speech_data['emotion']\n",
        "feature_data['emotion'] = label"
      ],
      "metadata": {
        "id": "gMj5M6Er6FgG"
      },
      "execution_count": 10,
      "outputs": []
    },
    {
      "cell_type": "code",
      "source": [
        "feature_data.to_csv('feature.csv')"
      ],
      "metadata": {
        "id": "2Id_QBEQw4Zm"
      },
      "execution_count": 16,
      "outputs": []
    },
    {
      "cell_type": "code",
      "source": [
        "from sklearn.model_selection import train_test_split\n",
        "\n",
        "X = feature_data.drop(columns= 'emotion')\n",
        "y = feature_data['emotion']\n",
        "\n",
        "X_train, X_test, y_train, y_test = train_test_split(X, y, test_size=0.2, random_state=9)\n"
      ],
      "metadata": {
        "id": "wOaSPbhl4NzA"
      },
      "execution_count": 18,
      "outputs": []
    },
    {
      "cell_type": "code",
      "source": [
        "model=MLPClassifier(alpha=0.01, batch_size=256, epsilon=1e-08, hidden_layer_sizes=(200,), learning_rate='adaptive', max_iter=10000)\n",
        "\n",
        "model.fit(X_train, y_train)\n",
        "y_pred=model.predict(X_test)\n",
        "accuracy=accuracy_score(y_true=y_test, y_pred=y_pred)\n"
      ],
      "metadata": {
        "id": "hyAaeEUgz3Uw"
      },
      "execution_count": 22,
      "outputs": []
    },
    {
      "cell_type": "code",
      "source": [
        "accuracy"
      ],
      "metadata": {
        "colab": {
          "base_uri": "https://localhost:8080/"
        },
        "id": "vWEbw7kn0I9u",
        "outputId": "13327e93-a098-40ba-dc07-d719e69e1052"
      },
      "execution_count": 23,
      "outputs": [
        {
          "output_type": "execute_result",
          "data": {
            "text/plain": [
              "0.5195232223592273"
            ]
          },
          "metadata": {},
          "execution_count": 23
        }
      ]
    }
  ]
}