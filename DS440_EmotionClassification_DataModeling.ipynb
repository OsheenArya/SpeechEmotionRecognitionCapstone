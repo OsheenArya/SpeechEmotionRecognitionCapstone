{
  "nbformat": 4,
  "nbformat_minor": 0,
  "metadata": {
    "colab": {
      "name": "DS440-EmotionClassification:-DataModeling.ipynb",
      "provenance": [],
      "authorship_tag": "ABX9TyPkBlW4J0mdBcuKq6nHDOxY",
      "include_colab_link": true
    },
    "kernelspec": {
      "name": "python3",
      "display_name": "Python 3"
    },
    "language_info": {
      "name": "python"
    }
  },
  "cells": [
    {
      "cell_type": "markdown",
      "metadata": {
        "id": "view-in-github",
        "colab_type": "text"
      },
      "source": [
        "<a href=\"https://colab.research.google.com/github/OsheenArya/SpeechEmotionRecognitionCapstone/blob/main/DS440_EmotionClassification_DataModeling.ipynb\" target=\"_parent\"><img src=\"https://colab.research.google.com/assets/colab-badge.svg\" alt=\"Open In Colab\"/></a>"
      ]
    },
    {
      "cell_type": "markdown",
      "source": [
        "help link to create doc\n",
        "\n",
        "https://www.analyticsinsight.net/speech-emotion-recognition-ser-through-machine-learning/\n",
        "\n",
        "\n",
        "dropping nulls ?\n",
        "dimension reduction :- not \n",
        "\n",
        "learning curves \n",
        "precision recall\n",
        "\n",
        "overfitting in curves.\n",
        "\n",
        "future work \n",
        "dimension reduction \n",
        "\n",
        "recursive feature elimination.\n",
        "PCA\n",
        "\n",
        "improve accuracy in future work."
      ],
      "metadata": {
        "id": "9-QN8Umridag"
      }
    },
    {
      "cell_type": "code",
      "execution_count": null,
      "metadata": {
        "colab": {
          "base_uri": "https://localhost:8080/"
        },
        "id": "rqkuLi02V6Ih",
        "outputId": "1a1458c7-72f8-4594-8786-216a3f3411e3"
      },
      "outputs": [
        {
          "output_type": "stream",
          "name": "stdout",
          "text": [
            "Mounted at /gdrive\n"
          ]
        }
      ],
      "source": [
        "import os\n",
        "from google.colab import drive\n",
        "drive.mount('/gdrive')"
      ]
    },
    {
      "cell_type": "code",
      "source": [
        "import pandas as pd\n",
        "import numpy as np\n",
        "from sklearn.model_selection import train_test_split\n",
        "from sklearn.neural_network import MLPClassifier\n",
        "from sklearn.svm import SVC\n",
        "from sklearn.metrics import accuracy_score\n",
        "from sklearn.neighbors import KNeighborsClassifier\n",
        "from sklearn.metrics import f1_score\n",
        "from sklearn.metrics import confusion_matrix"
      ],
      "metadata": {
        "id": "wH0B4qwkWEHD"
      },
      "execution_count": null,
      "outputs": []
    },
    {
      "cell_type": "code",
      "source": [
        "data = pd.read_csv('/gdrive/MyDrive/feature.csv')\n",
        "data = data.drop(columns = ['Unnamed: 0'])\n",
        "calm_index = data[data['emotion'] == 'calm'].index\n",
        "surprise_index = data[data['emotion'] == 'suprise'].index\n",
        "data = data.drop(calm_index)\n",
        "data = data.drop(surprise_index)"
      ],
      "metadata": {
        "id": "pV2XUQR1WAXs"
      },
      "execution_count": null,
      "outputs": []
    },
    {
      "cell_type": "code",
      "source": [
        "data['emotion'].value_counts()"
      ],
      "metadata": {
        "colab": {
          "base_uri": "https://localhost:8080/"
        },
        "id": "XnaPNlXqWbqM",
        "outputId": "6ef31127-85aa-4044-8a26-c00e4a9e6a34"
      },
      "execution_count": null,
      "outputs": [
        {
          "output_type": "execute_result",
          "data": {
            "text/plain": [
              "happy      1923\n",
              "fear       1923\n",
              "sad        1923\n",
              "disgust    1923\n",
              "angry      1923\n",
              "neutral    1703\n",
              "Name: emotion, dtype: int64"
            ]
          },
          "metadata": {},
          "execution_count": 3
        }
      ]
    },
    {
      "cell_type": "code",
      "source": [
        "#sample the data\n",
        "data = data.sample(frac=1)\n",
        "\n",
        "#train,test, validation split\n",
        "\n",
        "train_data, temp_test_data = train_test_split(data, test_size=0.4)\n",
        "test_data, valid_data = train_test_split(temp_test_data, test_size = 0.5)"
      ],
      "metadata": {
        "id": "iySeglvqWvFf"
      },
      "execution_count": null,
      "outputs": []
    },
    {
      "cell_type": "code",
      "source": [
        "train_labels = train_data.pop('emotion')\n",
        "test_label = test_data.pop('emotion')\n",
        "valid_label = valid_data.pop('emotion')"
      ],
      "metadata": {
        "id": "nywC51zwX5yD"
      },
      "execution_count": null,
      "outputs": []
    },
    {
      "cell_type": "code",
      "source": [
        "print(train_data.shape)\n",
        "print(test_data.shape)\n",
        "print(valid_data.shape)"
      ],
      "metadata": {
        "colab": {
          "base_uri": "https://localhost:8080/"
        },
        "id": "Y_awTi_tXfeB",
        "outputId": "e6197b79-7c58-42c3-b34d-bbf1bc5ee676"
      },
      "execution_count": null,
      "outputs": [
        {
          "output_type": "stream",
          "name": "stdout",
          "text": [
            "(6790, 180)\n",
            "(2264, 180)\n",
            "(2264, 180)\n"
          ]
        }
      ]
    },
    {
      "cell_type": "code",
      "source": [
        "#MLP Model\n",
        "mlp_model = MLPClassifier(alpha=0.01,\n",
        "                          batch_size=200,\n",
        "                          epsilon=1e-08,\n",
        "                          hidden_layer_sizes=(100,100,),\n",
        "                          learning_rate='adaptive',\n",
        "                          max_iter= 1000)\n",
        "\n",
        "mlp_model.fit(train_data, train_labels)\n",
        "mlp_pred= mlp_model.predict(test_data)"
      ],
      "metadata": {
        "id": "X5kDz7fhWp0x"
      },
      "execution_count": null,
      "outputs": []
    },
    {
      "cell_type": "code",
      "source": [
        "mlp_accuracy = accuracy_score(test_label, mlp_pred)\n",
        "mlp_f1 = f1_score(test_label, mlp_pred, average = 'weighted')\n",
        "\n",
        "print('MLP accuracy is:',mlp_accuracy)\n",
        "print('MLP F1 score is:',mlp_f1)\n",
        "\n",
        "print(test_label.value_counts())\n",
        "confusion_matrix(test_label, mlp_pred)\n",
        "\n",
        "mlp_pred_df = pd.DataFrame(mlp_pred)\n",
        "\n",
        "mlp_pred_df[0].value_counts()"
      ],
      "metadata": {
        "colab": {
          "base_uri": "https://localhost:8080/"
        },
        "id": "Np_ZLGxLbUN2",
        "outputId": "46b6af70-235f-4552-bb15-980941d33708"
      },
      "execution_count": null,
      "outputs": [
        {
          "output_type": "stream",
          "name": "stdout",
          "text": [
            "MLP accuracy is: 0.5569787985865724\n",
            "MLP F1 score is: 0.5515853049392359\n",
            "sad        408\n",
            "fear       385\n",
            "disgust    384\n",
            "happy      380\n",
            "angry      379\n",
            "neutral    328\n",
            "Name: emotion, dtype: int64\n"
          ]
        },
        {
          "output_type": "execute_result",
          "data": {
            "text/plain": [
              "fear       484\n",
              "angry      435\n",
              "neutral    425\n",
              "sad        364\n",
              "disgust    363\n",
              "happy      193\n",
              "Name: 0, dtype: int64"
            ]
          },
          "metadata": {},
          "execution_count": 44
        }
      ]
    },
    {
      "cell_type": "code",
      "source": [
        "#KNN model\n",
        "\n",
        "knn_model = KNeighborsClassifier(n_neighbors = 6)\n",
        "\n",
        "knn_model.fit(train_data,train_labels)\n",
        "knn_pred = knn_model.predict(test_data)"
      ],
      "metadata": {
        "id": "v9iBltOEbDBd"
      },
      "execution_count": null,
      "outputs": []
    },
    {
      "cell_type": "code",
      "source": [
        "knn_accuracy = accuracy_score(test_label, knn_pred)\n",
        "knn_f1 = f1_score(test_label, knn_pred, average = 'weighted')\n",
        "\n",
        "print('KNN accuracy is:',knn_accuracy)\n",
        "print('KNN F1 score is:',knn_f1)"
      ],
      "metadata": {
        "colab": {
          "base_uri": "https://localhost:8080/"
        },
        "id": "BN9ryhWWdzl6",
        "outputId": "a91f0918-df99-48bf-ae1d-3f9ea3c6fac2"
      },
      "execution_count": null,
      "outputs": [
        {
          "output_type": "stream",
          "name": "stdout",
          "text": [
            "KNN accuracy is: 0.5287102473498233\n",
            "KNN F1 score is: 0.5261779734957401\n"
          ]
        }
      ]
    }
  ]
}